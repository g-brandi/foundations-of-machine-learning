{
 "cells": [
  {
   "cell_type": "markdown",
   "metadata": {},
   "source": [
    "# **Lab 1. Linear regression**"
   ]
  },
  {
   "cell_type": "markdown",
   "metadata": {},
   "source": [
    "The idea behind this analysis is to predict the marks of the students by their efforts, quantified in overall duration and academic commitment. Through this lab, in which we are going to assess linear regression, we will be able to answer the following question:\n",
    "\n",
    "- *\"If we study for a certain number of hours per day, what will be our final mark?\"*"
   ]
  },
  {
   "cell_type": "markdown",
   "metadata": {},
   "source": [
    "## **1. Importing and plotting the dataset**\n",
    "The first step of the pipeline involves the import and the exploration of the dataset. Firstly we import the libraries, giving them aliases."
   ]
  },
  {
   "cell_type": "code",
   "execution_count": 2,
   "metadata": {},
   "outputs": [],
   "source": [
    "import pandas as pd\n",
    "import numpy as np\n",
    "import matplotlib.pyplot as plt"
   ]
  },
  {
   "cell_type": "markdown",
   "metadata": {},
   "source": [
    "Then we create a dataframe `df` by invoking the `read_csv()` function from `pandas` library, specifying the correct dataset."
   ]
  },
  {
   "cell_type": "code",
   "execution_count": 3,
   "metadata": {},
   "outputs": [],
   "source": [
    "# Import dataset\n",
    "df = pd.read_csv(\"dataset.csv\")"
   ]
  },
  {
   "cell_type": "markdown",
   "metadata": {},
   "source": [
    "### **1.1. Dataset exploration**\n",
    "Python allows us to intuitively visualize the structure of the dataframe using the `head()` function, which displays a snapshot of what's inside the dataset. The output of the `head()` function shows the first five rows of the dataset, along with the column names."
   ]
  },
  {
   "cell_type": "code",
   "execution_count": 4,
   "metadata": {},
   "outputs": [
    {
     "data": {
      "text/html": [
       "<div>\n",
       "<style scoped>\n",
       "    .dataframe tbody tr th:only-of-type {\n",
       "        vertical-align: middle;\n",
       "    }\n",
       "\n",
       "    .dataframe tbody tr th {\n",
       "        vertical-align: top;\n",
       "    }\n",
       "\n",
       "    .dataframe thead th {\n",
       "        text-align: right;\n",
       "    }\n",
       "</style>\n",
       "<table border=\"1\" class=\"dataframe\">\n",
       "  <thead>\n",
       "    <tr style=\"text-align: right;\">\n",
       "      <th></th>\n",
       "      <th>number_courses</th>\n",
       "      <th>time_study</th>\n",
       "      <th>Marks</th>\n",
       "    </tr>\n",
       "  </thead>\n",
       "  <tbody>\n",
       "    <tr>\n",
       "      <th>0</th>\n",
       "      <td>3</td>\n",
       "      <td>4.508</td>\n",
       "      <td>19.202</td>\n",
       "    </tr>\n",
       "    <tr>\n",
       "      <th>1</th>\n",
       "      <td>4</td>\n",
       "      <td>0.096</td>\n",
       "      <td>7.734</td>\n",
       "    </tr>\n",
       "    <tr>\n",
       "      <th>2</th>\n",
       "      <td>4</td>\n",
       "      <td>3.133</td>\n",
       "      <td>13.811</td>\n",
       "    </tr>\n",
       "    <tr>\n",
       "      <th>3</th>\n",
       "      <td>6</td>\n",
       "      <td>7.909</td>\n",
       "      <td>53.018</td>\n",
       "    </tr>\n",
       "    <tr>\n",
       "      <th>4</th>\n",
       "      <td>8</td>\n",
       "      <td>7.811</td>\n",
       "      <td>55.299</td>\n",
       "    </tr>\n",
       "  </tbody>\n",
       "</table>\n",
       "</div>"
      ],
      "text/plain": [
       "   number_courses  time_study   Marks\n",
       "0               3       4.508  19.202\n",
       "1               4       0.096   7.734\n",
       "2               4       3.133  13.811\n",
       "3               6       7.909  53.018\n",
       "4               8       7.811  55.299"
      ]
     },
     "execution_count": 4,
     "metadata": {},
     "output_type": "execute_result"
    }
   ],
   "source": [
    "# Snapshot of the dataset\n",
    "df.head()"
   ]
  },
  {
   "cell_type": "markdown",
   "metadata": {},
   "source": [
    "Another way to explore the dataset is by using the `shape` property, which displays the number of rows and columns of the dataframe."
   ]
  },
  {
   "cell_type": "code",
   "execution_count": 5,
   "metadata": {},
   "outputs": [
    {
     "data": {
      "text/plain": [
       "(100, 3)"
      ]
     },
     "execution_count": 5,
     "metadata": {},
     "output_type": "execute_result"
    }
   ],
   "source": [
    "# Shape of the dataset\n",
    "df.shape"
   ]
  },
  {
   "cell_type": "markdown",
   "metadata": {},
   "source": [
    "### **1.2. Dataset understanding**\n",
    "The features of our problem are:\n",
    "- `number_courses` the number of courses a student is enrolled in;\n",
    "- `time_study` the number of hours a student spends studying;\n",
    "\n",
    "while the outcome is:\n",
    "- `marks` the average mark scored by the student.\n",
    "\n",
    "### **1.3. Checking null data**\n",
    "Datasets often have inconsistencies, such as null values. We use the `isnull()` function combined with the `sum()` function to check for null values across all columns. This approach computes the number of null values for each column by summing accross the rows of the dataframe. Luckily enough, in this case we find no inconsistencies, as the sum of null values for all the features and the outcome is 0."
   ]
  },
  {
   "cell_type": "code",
   "execution_count": 6,
   "metadata": {},
   "outputs": [
    {
     "data": {
      "text/plain": [
       "number_courses    0\n",
       "time_study        0\n",
       "Marks             0\n",
       "dtype: int64"
      ]
     },
     "execution_count": 6,
     "metadata": {},
     "output_type": "execute_result"
    }
   ],
   "source": [
    "# Check null data\n",
    "df.isnull().sum()"
   ]
  },
  {
   "cell_type": "markdown",
   "metadata": {},
   "source": [
    "### **1.4. Summary statistics**\n",
    "Let us also display summary statistics of the dataset such as mean, standard deviation, minimum and maximum for each column.\n",
    "\n",
    "Mean provides a central tendency measure of the data. It gives a rough idea of the typical value in each column."
   ]
  },
  {
   "cell_type": "code",
   "execution_count": 7,
   "metadata": {},
   "outputs": [
    {
     "data": {
      "text/plain": [
       "number_courses     5.29000\n",
       "time_study         4.07714\n",
       "Marks             24.41769\n",
       "dtype: float64"
      ]
     },
     "execution_count": 7,
     "metadata": {},
     "output_type": "execute_result"
    }
   ],
   "source": [
    "df.mean()"
   ]
  },
  {
   "cell_type": "markdown",
   "metadata": {},
   "source": [
    "Standard deviation measures the amount of variation or dispersion around the mean. It is useful to understand how spread out the values are from the average. A high standard deviation suggests more variability, while a low standard deviation implies values are closer to the mean."
   ]
  },
  {
   "cell_type": "code",
   "execution_count": 8,
   "metadata": {},
   "outputs": [
    {
     "data": {
      "text/plain": [
       "number_courses     1.799523\n",
       "time_study         2.372914\n",
       "Marks             14.326199\n",
       "dtype: float64"
      ]
     },
     "execution_count": 8,
     "metadata": {},
     "output_type": "execute_result"
    }
   ],
   "source": [
    "df.std()"
   ]
  },
  {
   "cell_type": "markdown",
   "metadata": {},
   "source": [
    "Minimum and maximum values of the dataset provide a quick glance at the spread of values. For instance, a wide range may suggest variability (extreme values that significantly differ from the mean can be identified as outliers), while a narrow range might indicate consistency."
   ]
  },
  {
   "cell_type": "code",
   "execution_count": 9,
   "metadata": {},
   "outputs": [
    {
     "data": {
      "text/plain": [
       "number_courses    3.000\n",
       "time_study        0.096\n",
       "Marks             5.609\n",
       "dtype: float64"
      ]
     },
     "execution_count": 9,
     "metadata": {},
     "output_type": "execute_result"
    }
   ],
   "source": [
    "df.min()"
   ]
  },
  {
   "cell_type": "code",
   "execution_count": 10,
   "metadata": {},
   "outputs": [
    {
     "data": {
      "text/plain": [
       "number_courses     8.000\n",
       "time_study         7.957\n",
       "Marks             55.299\n",
       "dtype: float64"
      ]
     },
     "execution_count": 10,
     "metadata": {},
     "output_type": "execute_result"
    }
   ],
   "source": [
    "df.max()"
   ]
  },
  {
   "cell_type": "markdown",
   "metadata": {},
   "source": [
    "### **1.5. Correlation visualization**\n",
    "We can now perform some preliminary data visualization experiments to understand whether there is a correlation between a certain feature and the outcome. Firstly, we evaluate the scatter plot between the `number_courses` feature (on the x-axis) and the `marks` outcome we want to predict (on the y-axis). The relationship we observe appears to be non-linear, and so uncompatible with a linear regression approach."
   ]
  },
  {
   "cell_type": "code",
   "execution_count": 11,
   "metadata": {},
   "outputs": [
    {
     "data": {
      "image/png": "[encoded data removed]",
      "text/plain": [
       "<Figure size 640x480 with 1 Axes>"
      ]
     },
     "metadata": {},
     "output_type": "display_data"
    }
   ],
   "source": [
    "# Scatter plot between number_courses and Marks\n",
    "plt.scatter(x = df.number_courses, y = df.Marks)\n",
    "plt.xlabel(\"Number of courses\")\n",
    "plt.ylabel(\"Student marks\")\n",
    "plt.show()"
   ]
  },
  {
   "cell_type": "markdown",
   "metadata": {},
   "source": [
    "In the same way we examine the correlation between the `time_study` feature and the `Marks` outcome we want to predict. We observe that there is a significant correlation between the second feature and the outcome. For this reason, we will proceed with a linear regression.\n"
   ]
  },
  {
   "cell_type": "code",
   "execution_count": 12,
   "metadata": {},
   "outputs": [
    {
     "data": {
      "image/png": "[encoded data removed]",
      "text/plain": [
       "<Figure size 640x480 with 1 Axes>"
      ]
     },
     "metadata": {},
     "output_type": "display_data"
    }
   ],
   "source": [
    "# Scatter plot between time_study and Marks\n",
    "plt.scatter(x = df.time_study, y = df.Marks)\n",
    "plt.xlabel(\"Hours spent studying\")\n",
    "plt.ylabel(\"Student marks\")\n",
    "plt.show()"
   ]
  },
  {
   "cell_type": "markdown",
   "metadata": {},
   "source": [
    "## **2. Splitting data**\n",
    "Once the dataset has been explored and well-understood, we need to split our data.\n",
    "\n",
    "### **2.1. Training and testing**\n",
    "In our pipeline, there is a training phase during which we build our model and a test phase to test if the trained model performs well on completely independent examples, different from the ones used during training. This independent test helps us evaluate the model's generalization error, which can be decomposed into bias and variance.\n",
    "- Bias reflects underfitting, where the model fails to capture patterns, resulting in poor performance during training.\n",
    "- Variance reflects overfitting, where the model fits too well on the training set but performs poorly on unseen data.\n",
    "\n",
    "To assess these aspects of generalization, we need two separate datasets: one for training the model and one for testing it.\n",
    "\n",
    "For this reason, we split the original dataframe `df` in two new dataframes `df_train` and `df_test`. We decide the percentage `s_f` of the total examples to include in the training set so that the remaining goes into the test set. Typically, a common split is 80% for training and 20% for test, but this can vary depending on the dataset size and model requirements (70% for training and 30$ for test is also commonly used)."
   ]
  },
  {
   "cell_type": "code",
   "execution_count": 13,
   "metadata": {},
   "outputs": [],
   "source": [
    "import math\n",
    "\n",
    "# Percentage of split\n",
    "s_f = 0.8"
   ]
  },
  {
   "cell_type": "markdown",
   "metadata": {},
   "source": [
    "### **2.2. Choosing the split percentage**\n",
    "Since we have 100 examples, our split will result in 80 examples for the training set and 20 examples for the test set. Using the `shape[0]` property we retrieve only the number of rows (examples) of the dataset. In whis way, we can determine the number of rows to allocate to the training set by multiplying the total number of rows by the fraction `s_f` (and consequently the number of rows to allocate to the test set).\n",
    "\n",
    "The use of `floor()` and `ceil()` functions from the `math` library is crucial to prevent fractional values."
   ]
  },
  {
   "cell_type": "code",
   "execution_count": 14,
   "metadata": {},
   "outputs": [
    {
     "name": "stdout",
     "output_type": "stream",
     "text": [
      "80 20\n"
     ]
    }
   ],
   "source": [
    "# Number of training examples\n",
    "n_train = math.floor(s_f * df.shape[0])\n",
    "\n",
    "# Number of test examples\n",
    "n_test = math.ceil((1 - s_f) * df.shape[0])\n",
    "\n",
    "print(n_train, n_test)"
   ]
  },
  {
   "cell_type": "markdown",
   "metadata": {},
   "source": [
    "### **2.3. Training and test set**\n",
    "We can now split the original `df` dataframe into two new dataframes: `df_train` for training and `df_test` for testing."
   ]
  },
  {
   "cell_type": "code",
   "execution_count": 15,
   "metadata": {},
   "outputs": [],
   "source": [
    "# Training set\n",
    "df_train = df[:n_train]\n",
    "\n",
    "# Test set\n",
    "df_test = df[n_train:]\n"
   ]
  },
  {
   "cell_type": "markdown",
   "metadata": {},
   "source": [
    "To ensure that our dataset has been split correctly, we can use again the `head()` method to inspect the first few rows of `df_train`."
   ]
  },
  {
   "cell_type": "code",
   "execution_count": 16,
   "metadata": {},
   "outputs": [
    {
     "data": {
      "text/html": [
       "<div>\n",
       "<style scoped>\n",
       "    .dataframe tbody tr th:only-of-type {\n",
       "        vertical-align: middle;\n",
       "    }\n",
       "\n",
       "    .dataframe tbody tr th {\n",
       "        vertical-align: top;\n",
       "    }\n",
       "\n",
       "    .dataframe thead th {\n",
       "        text-align: right;\n",
       "    }\n",
       "</style>\n",
       "<table border=\"1\" class=\"dataframe\">\n",
       "  <thead>\n",
       "    <tr style=\"text-align: right;\">\n",
       "      <th></th>\n",
       "      <th>number_courses</th>\n",
       "      <th>time_study</th>\n",
       "      <th>Marks</th>\n",
       "    </tr>\n",
       "  </thead>\n",
       "  <tbody>\n",
       "    <tr>\n",
       "      <th>0</th>\n",
       "      <td>3</td>\n",
       "      <td>4.508</td>\n",
       "      <td>19.202</td>\n",
       "    </tr>\n",
       "    <tr>\n",
       "      <th>1</th>\n",
       "      <td>4</td>\n",
       "      <td>0.096</td>\n",
       "      <td>7.734</td>\n",
       "    </tr>\n",
       "    <tr>\n",
       "      <th>2</th>\n",
       "      <td>4</td>\n",
       "      <td>3.133</td>\n",
       "      <td>13.811</td>\n",
       "    </tr>\n",
       "    <tr>\n",
       "      <th>3</th>\n",
       "      <td>6</td>\n",
       "      <td>7.909</td>\n",
       "      <td>53.018</td>\n",
       "    </tr>\n",
       "    <tr>\n",
       "      <th>4</th>\n",
       "      <td>8</td>\n",
       "      <td>7.811</td>\n",
       "      <td>55.299</td>\n",
       "    </tr>\n",
       "  </tbody>\n",
       "</table>\n",
       "</div>"
      ],
      "text/plain": [
       "   number_courses  time_study   Marks\n",
       "0               3       4.508  19.202\n",
       "1               4       0.096   7.734\n",
       "2               4       3.133  13.811\n",
       "3               6       7.909  53.018\n",
       "4               8       7.811  55.299"
      ]
     },
     "execution_count": 16,
     "metadata": {},
     "output_type": "execute_result"
    }
   ],
   "source": [
    "df_train.head()"
   ]
  },
  {
   "cell_type": "markdown",
   "metadata": {},
   "source": [
    "## **3. Model implementation**\n",
    "We need to fit the linear regression parameters $\\theta$ to the dataset using gradient descent.\n",
    "\n",
    "### **3.1. Update equations**\n",
    "The hypotesis function of linear regression is:\n",
    "\n",
    "$$h_\\theta(x) = \\theta^Tx = \\theta_0 + \\theta_1x_1$$\n",
    "\n",
    "The objective of linear regression is to minimize the cost function, which is the Root Mean Squared Error (RMSE):\n",
    "\n",
    "$$ J(\\theta) = \\frac{1}{2m} \\sum_{i=1}^{m} \\left(h_\\theta(x^{(i)}) - y^{(i)}\\right)^2 $$\n",
    "\n",
    "To minimize the cost of $J(\\theta)$ we will use batch gradient descent algorithm. In batch gradient descent, each iteration performs the update:\n",
    "\n",
    "$$\\theta_j := \\theta_j - \\alpha \\frac{1}{m}\\sum_{i=1}^{m}\\left(h_\\theta(x^{(i)})-y^{(i)}\\right)x_j^{(i)}  $$\n",
    "\n",
    "which simultaneously updates $\\theta_j$ for all $j$. With each step of gradient descent, the parameters $\\theta_j$ come closer and closer to the optimal values that will achieve the lowest cost of the cost function $J(\\theta)$.\n",
    "\n",
    "### **3.2. Preparing data**\n",
    "To perform linear regression, we need to include an intercept term $\\theta_0$ which helps our model to better fit data. This term isn't directly present in the data, but it needs to be added. By adding the intercept term as an extra feature, often called a *dummy feature*, we can treat it the same way as other features in the regression model. This trick makes the math behind the regression simpler and more consistent.\n",
    "\n",
    "For our purposes, we need to specify the size `m` of the training set. Then we build the design matrix `X` by stacking the vector of the dummy feature to the vector of the `time_study` feature from the training set (this is very important, otherwise we would make a mistake).\n",
    "\n",
    "A common choice is to set the intercept terms to one (if needed, they will be updated during gradient descent).\n",
    "\n",
    "In the same way we build the outcome vector `y` and finally we initialize the parameters vector `theta` to zero. The `reshape(-1,1)` function is used to ensure that all the previous vectors are treated as column vectors, in order to mantain compability between shapes."
   ]
  },
  {
   "cell_type": "code",
   "execution_count": 17,
   "metadata": {},
   "outputs": [],
   "source": [
    "# Number of training examples\n",
    "m = df_train.shape[0]\n",
    "\n",
    "# Design matrix\n",
    "X = np.hstack((np.ones((m,1)), df_train.time_study.values.reshape(-1,1)))\n",
    "\n",
    "# Outcome vector\n",
    "y = np.array(df_train.Marks.values).reshape(-1,1)\n",
    "\n",
    "# Parameters vector\n",
    "theta = np.zeros(shape = (X.shape[1],1))"
   ]
  },
  {
   "cell_type": "markdown",
   "metadata": {},
   "source": [
    "Finally we define the learning rate `alpha` and the maximum number of iterations as a stopping condition ."
   ]
  },
  {
   "cell_type": "code",
   "execution_count": 18,
   "metadata": {},
   "outputs": [],
   "source": [
    "# Learning rate\n",
    "alpha = 0.01\n",
    "\n",
    "# Maximum number of iterations\n",
    "iterations = 1500"
   ]
  },
  {
   "cell_type": "markdown",
   "metadata": {},
   "source": [
    "### **3.3. Computing the cost**\n",
    "Let's define the function `compute_cost()` to compute the cost (previously defined as the RMSE). This function will take as an input the desing matrix `X`, the outcome vector `y`, and the vector of regression parameters `theta`. It will then:\n",
    "1. extract the necessary information from the inputs;\n",
    "2. build the hypothesis function;\n",
    "3. explicitly compute the cost function."
   ]
  },
  {
   "cell_type": "code",
   "execution_count": 19,
   "metadata": {},
   "outputs": [],
   "source": [
    "def compute_cost(X, y, theta):\n",
    "    # Number of training examples\n",
    "    m = y.shape[0]\n",
    "\n",
    "    # Hypothesis function\n",
    "    h = X.dot(theta)\n",
    "\n",
    "    # Cost function\n",
    "    J = (1/(2*m)) * (np.sum((h-y)**2))\n",
    "    \n",
    "    return J"
   ]
  },
  {
   "cell_type": "markdown",
   "metadata": {},
   "source": [
    "For example, we can compute the cost when the linear regression parameters are equal to zero."
   ]
  },
  {
   "cell_type": "code",
   "execution_count": 20,
   "metadata": {},
   "outputs": [
    {
     "name": "stdout",
     "output_type": "stream",
     "text": [
      "Cost computed: 394.06237603125004\n"
     ]
    }
   ],
   "source": [
    "J = compute_cost(X, y, theta)\n",
    "print('Cost computed:',J)"
   ]
  },
  {
   "cell_type": "markdown",
   "metadata": {},
   "source": [
    "### **3.4. Gradient descent implementation**"
   ]
  },
  {
   "cell_type": "markdown",
   "metadata": {},
   "source": [
    "Gradient descent is a generic optimization algorithm that measures the local gradient of the cost function with regards to the parameter $\\theta$ and goes in the direction of descending gradient. Until convergence, the following rule is repeated:\n",
    "\n",
    "$$ \\theta_j := \\theta_j - \\alpha \\frac{\\partial}{\\partial\\theta_j} J(\\theta_0,\\theta_1) = \\theta_j - \\alpha\\frac{1}{m} \\sum_{i=1}^{m} \\left(h_\\theta(x^{(i)}) - y^{(i)}\\right)x_j^{(i)} $$\n",
    "\n",
    "where $j=0,1$ and $\\alpha$ is the learning rate. It is important to state that:\n",
    "- if the learning rate is too small, the gradient descent will be slow, and so will be the convergence;\n",
    "- if the learning rate is too large, the gradient descent can overshoot the minimum and may fail to converge.\n",
    "\n",
    "We define the function `gradient_descent()` to implement the update rule. This function will take as an input the design matrix `X`, the outcome vector `y`, the vector of regression parameters `theta`, the learning rate `theta` and the maximum number of iterations `num_iters`.\n",
    "\n",
    "Again, we extract the number of samples `m`. Then we define a vector `J_history` to keep track of the history of the values of the cost function.\n",
    "\n",
    "Until convergence, we compute the hypothesis function and then we update the regression parameters."
   ]
  },
  {
   "cell_type": "code",
   "execution_count": 21,
   "metadata": {},
   "outputs": [],
   "source": [
    "def gradient_descent(X, y, theta, alpha, num_iters):\n",
    "\n",
    "    # Number of samples\n",
    "    m = y.shape[0]\n",
    "\n",
    "    # Cost initialization\n",
    "    J_history = np.zeros(shape=(num_iters,1))\n",
    "\n",
    "    for i in range(0, num_iters):\n",
    "        # Hypothesis function\n",
    "        h = X.dot(theta)\n",
    "\n",
    "        # Update term\n",
    "        delta = (1/m) * ((h - y).T.dot(X))\n",
    "\n",
    "        # Parameters update\n",
    "        theta = theta - (alpha * delta.T)\n",
    "\n",
    "        # Cost history\n",
    "        J_history[i] = compute_cost(X, y, theta)\n",
    "\n",
    "    return theta, J_history"
   ]
  },
  {
   "cell_type": "markdown",
   "metadata": {},
   "source": [
    "## **4. Model application**\n",
    "We can finally apply the linear regression model to our data. Firstly, we run the `gradient_descent()` function to update the regression parameters `theta`. We use `, _` because at the moment it is not useful to keep track of the history of the cost function."
   ]
  },
  {
   "cell_type": "code",
   "execution_count": 22,
   "metadata": {},
   "outputs": [
    {
     "name": "stdout",
     "output_type": "stream",
     "text": [
      "Theta found by gradient descent:\n",
      " [[0.80378559]\n",
      " [5.72523344]]\n"
     ]
    }
   ],
   "source": [
    "# Gradient descent\n",
    "theta, _= gradient_descent(X, y, theta, alpha, iterations)\n",
    "print('Theta found by gradient descent:\\n',theta)"
   ]
  },
  {
   "cell_type": "markdown",
   "metadata": {},
   "source": [
    "### **4.1. Visualizing results**\n",
    "We can use the parameters found by gradient descent to plot a regression line over the previous scatter plot to visually assess how well our linear regression model fits the training data. This comparison provides a clear representation of how the predicted values compare to the actual data points and helps in validating the effectiveness of our model."
   ]
  },
  {
   "cell_type": "code",
   "execution_count": 23,
   "metadata": {},
   "outputs": [
    {
     "data": {
      "image/png": "[encoded data removed]",
      "text/plain": [
       "<Figure size 640x480 with 1 Axes>"
      ]
     },
     "metadata": {},
     "output_type": "display_data"
    }
   ],
   "source": [
    "# Comparison between ground truth and the predictions\n",
    "plt.scatter(x = df_train.time_study , y = df_train.Marks)\n",
    "plt.plot(X[:,1], X.dot(theta), color='r')\n",
    "plt.xlabel(\"Hours spent studying\")\n",
    "plt.ylabel(\"Student marks\")\n",
    "plt.show()"
   ]
  },
  {
   "cell_type": "markdown",
   "metadata": {},
   "source": [
    "## **5. Model debugging**\n",
    "Tipically, debugging is done at the software level to identify and resolve errors in code. However, when we discuss debugging at the model level, we focus on analyzing and understanding the behaviour of the linear regression model itself.\n",
    "\n",
    "\n",
    "### **5.1. Visualizing cost function**\n",
    "The cost function $J(\\theta)$ is bowl.shaped and has a global minimum. This minimum is the optimal point for $\\theta_0$ and $\\theta_1$, and each step of gradient descent moves closer to this point. To gain insight into how $\\theta_0$ and $\\theta_1$ change throughout the gradient descent process, we can initialie them simultaneously. Let us consider a grid of values, for example 100 different values for $\\theta_0$ and 100 different values for $\\theta_1$.\n",
    "\n",
    "As we invoke the gradient descent function, it iteratively updates $\\theta_0$ and $\\theta_1$ towards minimizing the cost function. By tracking the changes in $\\theta_0$ and $\\theta_1$ accross our grid of initial values, we can visualize how these parameters evolve with each iteration of gradient descent."
   ]
  },
  {
   "cell_type": "code",
   "execution_count": 24,
   "metadata": {},
   "outputs": [],
   "source": [
    "# Grid of parameters\n",
    "theta0_vals = np.linspace(-10, 10, 100)\n",
    "theta1_vals = np.linspace(-1, 8, 100)\n",
    "\n",
    "# Cost evolution\n",
    "J_vals = np.zeros(shape=(len(theta0_vals), len(theta1_vals)))\n",
    "for i in range(0, len(theta0_vals)):\n",
    "    for j in range(0, len(theta1_vals)):\n",
    "        J_vals[i,j] = compute_cost(X, y, [[theta0_vals[i]], [theta1_vals[j]]])"
   ]
  },
  {
   "cell_type": "markdown",
   "metadata": {},
   "source": [
    "### **5.2. Contour plots**\n",
    "Once we obtained different costs for each combination of $\\theta_0$ and $\\theta_1$ we can plot a contour plot, where the contours represent different values of the cost function $J(\\theta)$ and marks the optimal parameters $\\theta_0$ and $\\theta_1$ with a red marker. This visualization helps in understanding how the cost function varies with different model parameters and confirms the location of the minimum cost."
   ]
  },
  {
   "cell_type": "code",
   "execution_count": 25,
   "metadata": {},
   "outputs": [
    {
     "data": {
      "image/png": "[encoded data removed]",
      "text/plain": [
       "<Figure size 640x480 with 1 Axes>"
      ]
     },
     "metadata": {},
     "output_type": "display_data"
    }
   ],
   "source": [
    "# Contour plot\n",
    "ax = plt.contour(theta0_vals, theta1_vals, np.transpose(J_vals), levels=np.logspace(-2,2,20))\n",
    "plt.plot(theta[0,0], theta[1,0], marker='x', color='r');\n",
    "plt.xlabel(r'$\\theta_0$');\n",
    "plt.ylabel(r'$\\theta_1$');"
   ]
  },
  {
   "cell_type": "markdown",
   "metadata": {},
   "source": [
    "## **6. Model testing**\n",
    "After training our linear regression model on the training set, the next step is to evaluate how well it generalizes to unseen data using the test set. This helps us understand if our model can make accurate predictions on new, independent data.\n",
    "\n",
    "### **6.1. Preparing data**\n",
    "Similarly to the training phase we build the design matrix `X_test` and the outcome vector `y_test`. Then we compute the predictions vector `y_pred` and the dot product between the design matrix, containing test samples, and the parameters vector found by gradient descent during the training phase. In other words, we do not update again the model (this is considered as a huge mistake). We simply make it work on the test set. This allows us to understand how well the model generalizes on unseen data."
   ]
  },
  {
   "cell_type": "code",
   "execution_count": 26,
   "metadata": {},
   "outputs": [],
   "source": [
    "# Number of test samples\n",
    "m_test = df_test.shape[0]\n",
    "\n",
    "# Design matrix\n",
    "X_test = np.hstack((np.ones((m_test,1)), df_test.time_study.values.reshape(-1,1)))\n",
    "\n",
    "# Outcome vector\n",
    "y_test = np.array(df_test.Marks.values).reshape(-1,1)\n",
    "\n",
    "# Prediction vector\n",
    "y_pred = X_test.dot(theta)"
   ]
  },
  {
   "cell_type": "markdown",
   "metadata": {},
   "source": [
    "### **6.2. Visualizing results**\n",
    "Now we can plot a scatter plot to assess wheter there is a linear relationship between ground truth and the predictions of our model."
   ]
  },
  {
   "cell_type": "code",
   "execution_count": 27,
   "metadata": {},
   "outputs": [
    {
     "data": {
      "image/png": "[encoded data removed]",
      "text/plain": [
       "<Figure size 640x480 with 1 Axes>"
      ]
     },
     "metadata": {},
     "output_type": "display_data"
    }
   ],
   "source": [
    "plt.scatter(x = df_test.Marks, y=y_pred)\n",
    "plt.xlabel(\"Student marks\")\n",
    "plt.ylabel(\"Predicted student marks\")\n",
    "plt.show()"
   ]
  },
  {
   "cell_type": "markdown",
   "metadata": {},
   "source": [
    "### **6.3. Performance metrics**\n",
    "As we can see, there is an important relationship between the true values and the predicted values. To evaluate the generalization error, we can define some metrics based on the difference between the outcomes and the predictions.\n",
    "\n",
    "The Mean Absolute Error (MAE) measures the average magnitude of the errors between predicted values and actual values. It gives a straightforward idea of prediction accuracy by averaging the absolute differences.\n",
    "\n",
    "$$\\operatorname{MAE} = \\frac{1}{m}\\sum_{i=1}^{m} \\left\\lvert \\hat{y}^{(i)} - y^{(i)}\\right\\rvert$$\n",
    "\n",
    "The Mean Squared Error (MSE) measures the average of the squares of the errors between predicted and actual values. It penalizes larger errors more than smaller ones due to squaring, making it sensitive to outliers.\n",
    "\n",
    "$$\\operatorname{MSE} = \\frac{1}{m}\\sum_{i=1}^{m} \\left(\\hat{y}^{(i)} - y^{(i)}\\right)^2$$\n",
    "\n",
    "The Root Mean Squared Error (RMSE) is the square root of the MSE. It provides a measure of the average magnitude of the errors, just like MAE, but incorporates the squaring from MSE to penalize larger errors.\n",
    "\n",
    "$$\\operatorname{RMSE} = \\sqrt{\\frac{1}{m}\\sum_{i=1}^{m} \\left(\\hat{y}^{(i)} - y^{(i)}\\right)^2}$$\n",
    "\n",
    "The R-Squared, also known as coefficient of determination, measures the proportion of the variance in the dependent variable that is predictable from the independent variables. It measures how well the model fits the data.\n",
    "\n",
    "$$ R^2 = 1 - \\frac{\\displaystyle\\sum_{i=1}^{m}\\left(\\hat{y}^{(i)} - y^{(i)}\\right)^2}{\\displaystyle\\sum_{i=1}^{m}\\left(\\hat{y}^{(i)} - \\overline{y}\\right)^2}"
   ]
  },
  {
   "cell_type": "code",
   "execution_count": 28,
   "metadata": {},
   "outputs": [
    {
     "name": "stdout",
     "output_type": "stream",
     "text": [
      "MAE: 3.140684322280169\n",
      "MSE: 15.967086712567362\n",
      "RMSE: 3.9958837211019245\n",
      "R-Squared: [0.98078305]\n"
     ]
    }
   ],
   "source": [
    "# Error\n",
    "d = y_test - y_pred\n",
    "\n",
    "# Mean Absolute Error\n",
    "mae_f = np.mean(abs(d))\n",
    "\n",
    "# Mean Squared Error\n",
    "mse_f = np.mean(d**2)\n",
    "\n",
    "# Root Mean Squared Error\n",
    "rmse_f = np.sqrt(mse_f)\n",
    "\n",
    "# R-Squared\n",
    "r2_f = 1 - (sum(d**2)/sum((y-np.mean(y))**2))\n",
    "\n",
    "print(\"MAE:\",mae_f)\n",
    "print(\"MSE:\", mse_f)\n",
    "print(\"RMSE:\", rmse_f)\n",
    "print(\"R-Squared:\", r2_f)"
   ]
  },
  {
   "cell_type": "markdown",
   "metadata": {},
   "source": [
    "### **6.4. Understanding results**\n",
    "As we can see, the Mean Absolute Error tells us that the model's predictions are, on average, off by 3 units. In a range from 5 to 55, with a mean value of 24, the MAE suggests reasonably close predictions.\n",
    "\n",
    "The R-Squared instead tells us that the 98% of the variance of the dependent variable `y_test` is captured and explained by the predictions of the model `y_pred`. Considering that R-Squared spans from 0% to 100%, its value proves that there is a strong linear relationship."
   ]
  },
  {
   "cell_type": "markdown",
   "metadata": {},
   "source": [
    "## **7. Model generalization**"
   ]
  },
  {
   "cell_type": "markdown",
   "metadata": {},
   "source": [
    "Until now, we have considered only the `time_study` variable. To take in account also the `number_courses` variable to predict the final marks, we have to add some additional steps in our pipeline in order to address the multivariate regression task.\n",
    "\n",
    "### **7.1. Feature normalization**\n",
    "Different features might have different scales. To ensure the features in the design matrix are on the same scale and thus comparable, we will normalize them using $z$-score normalization. This technique adjusts each feature to have a mean of 0 and a standard deviation of 1:\n",
    "\n",
    "$$ x_j^{(i)} = \\frac{x_j^{(i)} - \\mu_j}{\\sigma_j} $$\n",
    "\n",
    "We define the function `feature_normalize()` to implement the normalization. This function will take as an input the design matrix `X`, the means and the standard deviations for each column of the design matrix. By the way, `mean`and `std` are parameters are optional because, if they have only one dimension (for this purpose we will use the `shape` property), the function will compute them from the design matrix `X`.\n",
    "\n",
    "Note that in the `std()` function from `numpy` we specify the field `ddof=1` to get the sample standard deviation, which is more suitable for small datasets."
   ]
  },
  {
   "cell_type": "code",
   "execution_count": 29,
   "metadata": {},
   "outputs": [],
   "source": [
    "def feature_normalize(X, mean=np.zeros(1), std=np.zeros(1)):\n",
    "\n",
    "    # Design matrix\n",
    "    X = np.array(X)\n",
    "\n",
    "    # Compute mean and standard deviation\n",
    "    if len(mean.shape) == 1 or len(std.shape) == 1:\n",
    "        mean = np.mean(X, axis=0)\n",
    "        std = np.std(X, axis=0, ddof=1)\n",
    "    \n",
    "    # Perform normalization\n",
    "    X = (X - mean)/std\n",
    "    \n",
    "    return X, mean, std"
   ]
  },
  {
   "cell_type": "markdown",
   "metadata": {},
   "source": [
    "Now we can use the `feature_normalize()` function to normalize our data. In particular, we define another dataframe `df2` in which we will substitute the columns `number_courses` and `time_study` with their normalized values contained in the normalized design matrix `X_norm`."
   ]
  },
  {
   "cell_type": "code",
   "execution_count": 30,
   "metadata": {},
   "outputs": [],
   "source": [
    "# Normalization\n",
    "X_norm, mu, sigma = feature_normalize(df[['time_study', 'number_courses']])\n",
    "\n",
    "# Second dataframe\n",
    "df2 = df\n",
    "\n",
    "# Normalized features\n",
    "df2['time_study'] = X_norm[:,0]\n",
    "df2['number_courses'] = X_norm[:,1]"
   ]
  },
  {
   "cell_type": "markdown",
   "metadata": {},
   "source": [
    "Agaim, to ensure that our dataset has been normalized correctly, we can use again the `head()` method to inspect the first few rows of `df2`."
   ]
  },
  {
   "cell_type": "code",
   "execution_count": 31,
   "metadata": {},
   "outputs": [
    {
     "data": {
      "text/html": [
       "<div>\n",
       "<style scoped>\n",
       "    .dataframe tbody tr th:only-of-type {\n",
       "        vertical-align: middle;\n",
       "    }\n",
       "\n",
       "    .dataframe tbody tr th {\n",
       "        vertical-align: top;\n",
       "    }\n",
       "\n",
       "    .dataframe thead th {\n",
       "        text-align: right;\n",
       "    }\n",
       "</style>\n",
       "<table border=\"1\" class=\"dataframe\">\n",
       "  <thead>\n",
       "    <tr style=\"text-align: right;\">\n",
       "      <th></th>\n",
       "      <th>number_courses</th>\n",
       "      <th>time_study</th>\n",
       "      <th>Marks</th>\n",
       "    </tr>\n",
       "  </thead>\n",
       "  <tbody>\n",
       "    <tr>\n",
       "      <th>0</th>\n",
       "      <td>-1.272559</td>\n",
       "      <td>0.181574</td>\n",
       "      <td>19.202</td>\n",
       "    </tr>\n",
       "    <tr>\n",
       "      <th>1</th>\n",
       "      <td>-0.716857</td>\n",
       "      <td>-1.677743</td>\n",
       "      <td>7.734</td>\n",
       "    </tr>\n",
       "    <tr>\n",
       "      <th>2</th>\n",
       "      <td>-0.716857</td>\n",
       "      <td>-0.397882</td>\n",
       "      <td>13.811</td>\n",
       "    </tr>\n",
       "    <tr>\n",
       "      <th>3</th>\n",
       "      <td>0.394549</td>\n",
       "      <td>1.614833</td>\n",
       "      <td>53.018</td>\n",
       "    </tr>\n",
       "    <tr>\n",
       "      <th>4</th>\n",
       "      <td>1.505955</td>\n",
       "      <td>1.573534</td>\n",
       "      <td>55.299</td>\n",
       "    </tr>\n",
       "  </tbody>\n",
       "</table>\n",
       "</div>"
      ],
      "text/plain": [
       "   number_courses  time_study   Marks\n",
       "0       -1.272559    0.181574  19.202\n",
       "1       -0.716857   -1.677743   7.734\n",
       "2       -0.716857   -0.397882  13.811\n",
       "3        0.394549    1.614833  53.018\n",
       "4        1.505955    1.573534  55.299"
      ]
     },
     "execution_count": 31,
     "metadata": {},
     "output_type": "execute_result"
    }
   ],
   "source": [
    "df2.head()"
   ]
  },
  {
   "cell_type": "markdown",
   "metadata": {},
   "source": [
    "### **7.2. Splitting data**\n",
    "Just like in the previous case, we split our data into two sets: the training set (80% of the data) and the test set (20% of the data). The first set will allow us to train the model and find the optimal regression parameters, the second one will help us assess the generalization capabilities of the model on unseen data."
   ]
  },
  {
   "cell_type": "code",
   "execution_count": 32,
   "metadata": {},
   "outputs": [],
   "source": [
    "# Training set\n",
    "df2_train = df2[:n_train]\n",
    "\n",
    "# Test set\n",
    "df2_test = df2[n_train:]"
   ]
  },
  {
   "cell_type": "markdown",
   "metadata": {},
   "source": [
    "To ensure that our dataset has been split correctly, we can use again the `head()` method to inspect the first few rows of `df2_train`."
   ]
  },
  {
   "cell_type": "code",
   "execution_count": 33,
   "metadata": {},
   "outputs": [
    {
     "data": {
      "text/html": [
       "<div>\n",
       "<style scoped>\n",
       "    .dataframe tbody tr th:only-of-type {\n",
       "        vertical-align: middle;\n",
       "    }\n",
       "\n",
       "    .dataframe tbody tr th {\n",
       "        vertical-align: top;\n",
       "    }\n",
       "\n",
       "    .dataframe thead th {\n",
       "        text-align: right;\n",
       "    }\n",
       "</style>\n",
       "<table border=\"1\" class=\"dataframe\">\n",
       "  <thead>\n",
       "    <tr style=\"text-align: right;\">\n",
       "      <th></th>\n",
       "      <th>number_courses</th>\n",
       "      <th>time_study</th>\n",
       "      <th>Marks</th>\n",
       "    </tr>\n",
       "  </thead>\n",
       "  <tbody>\n",
       "    <tr>\n",
       "      <th>0</th>\n",
       "      <td>-1.272559</td>\n",
       "      <td>0.181574</td>\n",
       "      <td>19.202</td>\n",
       "    </tr>\n",
       "    <tr>\n",
       "      <th>1</th>\n",
       "      <td>-0.716857</td>\n",
       "      <td>-1.677743</td>\n",
       "      <td>7.734</td>\n",
       "    </tr>\n",
       "    <tr>\n",
       "      <th>2</th>\n",
       "      <td>-0.716857</td>\n",
       "      <td>-0.397882</td>\n",
       "      <td>13.811</td>\n",
       "    </tr>\n",
       "    <tr>\n",
       "      <th>3</th>\n",
       "      <td>0.394549</td>\n",
       "      <td>1.614833</td>\n",
       "      <td>53.018</td>\n",
       "    </tr>\n",
       "    <tr>\n",
       "      <th>4</th>\n",
       "      <td>1.505955</td>\n",
       "      <td>1.573534</td>\n",
       "      <td>55.299</td>\n",
       "    </tr>\n",
       "  </tbody>\n",
       "</table>\n",
       "</div>"
      ],
      "text/plain": [
       "   number_courses  time_study   Marks\n",
       "0       -1.272559    0.181574  19.202\n",
       "1       -0.716857   -1.677743   7.734\n",
       "2       -0.716857   -0.397882  13.811\n",
       "3        0.394549    1.614833  53.018\n",
       "4        1.505955    1.573534  55.299"
      ]
     },
     "execution_count": 33,
     "metadata": {},
     "output_type": "execute_result"
    }
   ],
   "source": [
    "df2_train.head()"
   ]
  },
  {
   "cell_type": "markdown",
   "metadata": {},
   "source": [
    "### **7.3. Gradient descent**\n",
    "The main difference from the univariate regression problem is that now there is one more feature in the matrix `X`. The hypothesis function and the batch gradient descent update rule remain unchanged. In the multivariate case, the cost function can also be written in the following vectorized form:\n",
    "\n",
    "$$J(\\theta) = \\frac{1}{2m}(X\\theta-y)^T(X\\theta-y)$$"
   ]
  },
  {
   "cell_type": "markdown",
   "metadata": {},
   "source": [
    "First, we update the `compute_cost()` function with the new expression of the cost function."
   ]
  },
  {
   "cell_type": "code",
   "execution_count": 34,
   "metadata": {},
   "outputs": [],
   "source": [
    "def compute_cost(X, y, theta):\n",
    "\n",
    "    # Number of samples\n",
    "    m = y.shape[0]\n",
    "\n",
    "    # Hypothesis function\n",
    "    h = X.dot(theta)\n",
    "\n",
    "    # Cost function\n",
    "    J = (1/(2*m)) * ((h-y).T.dot(h-y))\n",
    "    \n",
    "    return J"
   ]
  },
  {
   "cell_type": "markdown",
   "metadata": {},
   "source": [
    "Then we consider again the `gradient_descent()` function."
   ]
  },
  {
   "cell_type": "code",
   "execution_count": 35,
   "metadata": {},
   "outputs": [],
   "source": [
    "def gradient_descent(X, y, theta, alpha, num_iters):\n",
    "\n",
    "    # Number of samples\n",
    "    m = y.shape[0]\n",
    "\n",
    "    # Cost initialization\n",
    "    J_history = np.zeros(shape=(num_iters,1))\n",
    "\n",
    "    for i in range(0, num_iters):\n",
    "        # Hypothesis function\n",
    "        h = X.dot(theta)\n",
    "\n",
    "        # Update term\n",
    "        delta = (1/m) * ((h - y).T.dot(X))\n",
    "\n",
    "        # Parameters update\n",
    "        theta = theta - (alpha * delta.T)\n",
    "\n",
    "        # Cost history\n",
    "        J_history[i] = compute_cost(X, y, theta)\n",
    "\n",
    "    return theta, J_history"
   ]
  },
  {
   "cell_type": "markdown",
   "metadata": {},
   "source": [
    "We prepare again our data by including the intercept term and by ensuring that all the dimensions are compatible."
   ]
  },
  {
   "cell_type": "code",
   "execution_count": 36,
   "metadata": {},
   "outputs": [],
   "source": [
    "# Number of training examples\n",
    "m = df2_train.shape[0]\n",
    "\n",
    "# Design matrix\n",
    "X = np.hstack((np.ones((m,1)), df2_train.time_study.values.reshape(-1,1), df2_train.number_courses.values.reshape(-1,1)))\n",
    "\n",
    "# Outcome vector\n",
    "y = np.array(df_train.Marks.values).reshape(-1,1)\n",
    "\n",
    "# Parameters vector\n",
    "theta = np.zeros(shape = (X.shape[1],1))"
   ]
  },
  {
   "cell_type": "markdown",
   "metadata": {},
   "source": [
    "Finally we define the learning rate `alpha` and the maximum number of iterations as a stopping condition ."
   ]
  },
  {
   "cell_type": "code",
   "execution_count": 37,
   "metadata": {},
   "outputs": [],
   "source": [
    "# Learning rate\n",
    "alpha = 0.01\n",
    "\n",
    "# Maximum number of iterations\n",
    "iterations = 1500"
   ]
  },
  {
   "cell_type": "markdown",
   "metadata": {},
   "source": [
    "### **7.5. Model application**\n",
    "We can finally apply the multivariate regression model to our data. Firstly, we run the `gradient_descent()` function to update the regression parameters `theta`. We use `, _` because at the moment it is not useful to keep track of the history of the cost function."
   ]
  },
  {
   "cell_type": "code",
   "execution_count": 38,
   "metadata": {},
   "outputs": [
    {
     "name": "stdout",
     "output_type": "stream",
     "text": [
      "Theta found by gradient descent:\n",
      " [[24.51543724]\n",
      " [12.65731852]\n",
      " [ 3.79504224]]\n"
     ]
    }
   ],
   "source": [
    "# Gradient descent\n",
    "theta, _= gradient_descent(X, y, theta, alpha, iterations)\n",
    "print('Theta found by gradient descent:\\n',theta)"
   ]
  },
  {
   "cell_type": "markdown",
   "metadata": {},
   "source": [
    "### **7.6. Model testing**\n",
    "It's now time to test our multivariate regression model, in the exact same way as we did before with the univariate regression model."
   ]
  },
  {
   "cell_type": "code",
   "execution_count": 39,
   "metadata": {},
   "outputs": [],
   "source": [
    "# Number of test samples\n",
    "m_test=df2_test.shape[0]\n",
    "\n",
    "# Design matrix\n",
    "X_test = np.hstack((np.ones((m_test,1)), df2_test.time_study.values.reshape(-1,1),df2_test.number_courses.values.reshape(-1,1)))\n",
    "\n",
    "# Outcome vector\n",
    "y_test = np.array(df2_test.Marks.values).reshape(-1,1)\n",
    "\n",
    "# Prediction vector\n",
    "y_pred = X_test.dot(theta)"
   ]
  },
  {
   "cell_type": "markdown",
   "metadata": {},
   "source": [
    "Now we can plot a scatter plot to assess wheter there is a linear relationship between ground truth and the predictions of our model."
   ]
  },
  {
   "cell_type": "code",
   "execution_count": 40,
   "metadata": {},
   "outputs": [
    {
     "data": {
      "image/png": "[encoded data removed]",
      "text/plain": [
       "<Figure size 640x480 with 1 Axes>"
      ]
     },
     "metadata": {},
     "output_type": "display_data"
    }
   ],
   "source": [
    "plt.scatter(x = df2_test.Marks , y=y_pred)\n",
    "plt.xlabel(\"Student Marks\")\n",
    "plt.ylabel(\"Predicted student Marks\")\n",
    "plt.show()"
   ]
  },
  {
   "cell_type": "markdown",
   "metadata": {},
   "source": [
    "### **7.7. Performance metrics**\n",
    "As we can see, there is an important relationship between the true values and the predicted values. We evaluate again the generalization error."
   ]
  },
  {
   "cell_type": "code",
   "execution_count": 41,
   "metadata": {},
   "outputs": [
    {
     "name": "stdout",
     "output_type": "stream",
     "text": [
      "MAE: 3.140894013672116\n",
      "MSE: 12.674585786741593\n",
      "RMSE: 3.560138450501833\n",
      "R-Squared: [0.98474569]\n"
     ]
    }
   ],
   "source": [
    "# Error\n",
    "d = y_test - y_pred\n",
    "\n",
    "# Mean Absolute Error\n",
    "mae_f = np.mean(abs(d))\n",
    "\n",
    "# Mean Squared Error\n",
    "mse_f = np.mean(d**2)\n",
    "\n",
    "# Root Mean Squared Error\n",
    "rmse_f = np.sqrt(mse_f)\n",
    "\n",
    "# R-Squared\n",
    "r2_f = 1 - (sum(d**2)/sum((y-np.mean(y))**2))\n",
    "\n",
    "print(\"MAE:\",mae_f)\n",
    "print(\"MSE:\", mse_f)\n",
    "print(\"RMSE:\", rmse_f)\n",
    "print(\"R-Squared:\", r2_f)"
   ]
  },
  {
   "cell_type": "markdown",
   "metadata": {},
   "source": [
    "The introduction of the `number_courses` feature does not improve the performances of the model. Performance metrics are more or less the same, proving that there is no need to consider a more complex model because its complexity is useless and requires a higher computational effort."
   ]
  },
  {
   "cell_type": "markdown",
   "metadata": {},
   "source": [
    "## **8. Tuning parameters**\n",
    "We have previously considered a learning rate of $\\alpha=0.01$. But is it the right value? To understand which value of the learning rate fits the most our model, we consider the last step of our pipeline which involves the tuning of the parameters. Again, we prepare our data:\n"
   ]
  },
  {
   "cell_type": "code",
   "execution_count": 42,
   "metadata": {},
   "outputs": [],
   "source": [
    "# Number of training examples\n",
    "m = df2_train.shape[0]\n",
    "\n",
    "# Design matrix\n",
    "X = np.hstack((np.ones((m,1)), df2_train.time_study.values.reshape(-1,1), df2_train.number_courses.values.reshape(-1,1)))\n",
    "\n",
    "# Outcome vector\n",
    "y = np.array(df_train.Marks.values).reshape(-1,1)\n",
    "\n",
    "# Parameters vector\n",
    "theta = np.zeros(shape = (X.shape[1],1))"
   ]
  },
  {
   "cell_type": "markdown",
   "metadata": {},
   "source": [
    "### **8.1. Choosing the right learning rate** \n",
    "Then we define a vector of possible values of the learning rate which we will be testing."
   ]
  },
  {
   "cell_type": "code",
   "execution_count": 43,
   "metadata": {},
   "outputs": [],
   "source": [
    "# Learning rates\n",
    "alpha = [0.4, 0.1, 0.05, 0.01]\n",
    "\n",
    "# Maximum number of iterations\n",
    "num_iters = 50"
   ]
  },
  {
   "cell_type": "markdown",
   "metadata": {},
   "source": [
    "We run the gradient descent algorithm for each value of the learning rate to understand which value is more suitable for our purposes."
   ]
  },
  {
   "cell_type": "code",
   "execution_count": 44,
   "metadata": {},
   "outputs": [
    {
     "data": {
      "image/png": "[encoded data removed]",
      "text/plain": [
       "<Figure size 640x480 with 1 Axes>"
      ]
     },
     "metadata": {},
     "output_type": "display_data"
    }
   ],
   "source": [
    "for i in range(0, len(alpha)):\n",
    "\n",
    "    # Parameters vector\n",
    "    theta = np.zeros(shape=(X.shape[1],1))\n",
    "\n",
    "    # Gradient descent\n",
    "    theta, J_history = gradient_descent(X, y, theta, alpha[i], num_iters)\n",
    "\n",
    "    # Comparison between cost functions\n",
    "    plt.plot(range(len(J_history)), J_history, label=fr'$\\alpha_{i+1} = {alpha[i]}$')\n",
    "\n",
    "plt.xlabel('Number of iterations')\n",
    "plt.ylabel('Cost')\n",
    "plt.legend()\n",
    "plt.show()"
   ]
  },
  {
   "cell_type": "markdown",
   "metadata": {},
   "source": [
    "\n",
    "\n",
    "### **8.2. Understanding results**\n",
    "As we can see, different values of the learning rate provide different shapes of the cost function. The learning rate $\\alpha_4=0.01$ we have previously used is actually not a good choice, because the cost function reaches its minimum very slowly. In the same way, $\\alpha_1 = 0.4$ is not a good choice because the cost function reaches its minimum very fastly, leading to overshoots. A balanced choice can be $\\alpha_2 = 0.1$."
   ]
  },
  {
   "cell_type": "markdown",
   "metadata": {},
   "source": [
    "## **9. Applying model on real data**\n",
    "It's finally time to answer our questions. First thing first, we change the learning rate to the optimal value we found during the tuning phase."
   ]
  },
  {
   "cell_type": "code",
   "execution_count": 45,
   "metadata": {},
   "outputs": [],
   "source": [
    "# Learning rate\n",
    "alpha = 0.1"
   ]
  },
  {
   "cell_type": "markdown",
   "metadata": {},
   "source": [
    "Then we run again gradient descent to update the regression parameters because we changed the value of the learning rate."
   ]
  },
  {
   "cell_type": "code",
   "execution_count": 46,
   "metadata": {},
   "outputs": [
    {
     "name": "stdout",
     "output_type": "stream",
     "text": [
      "Theta found by gradient descent:\n",
      " [[24.51545035]\n",
      " [12.65730747]\n",
      " [ 3.79505975]]\n"
     ]
    }
   ],
   "source": [
    "# Gradient descent\n",
    "theta, _= gradient_descent(X, y, theta, alpha, iterations)\n",
    "print('Theta found by gradient descent:\\n',theta)"
   ]
  },
  {
   "cell_type": "markdown",
   "metadata": {},
   "source": [
    "Then we normalize our data with the previously-obtained parameters during the z-score (this is crucial in order to make things work)"
   ]
  },
  {
   "cell_type": "code",
   "execution_count": 47,
   "metadata": {},
   "outputs": [],
   "source": [
    "# Normalizing data\n",
    "my_time = (7.5 - mu[0])/sigma[0]\n",
    "my_courses = (4 - mu[1])/sigma[1]"
   ]
  },
  {
   "cell_type": "markdown",
   "metadata": {},
   "source": [
    "Finally we can predict what will be our final mark if we enroll in 4 courses and study for 7.5 hours:"
   ]
  },
  {
   "cell_type": "code",
   "execution_count": 53,
   "metadata": {},
   "outputs": [
    {
     "name": "stdout",
     "output_type": "stream",
     "text": [
      "You will get a final mark of: 40.05273633809438\n"
     ]
    }
   ],
   "source": [
    "# Prediction\n",
    "y_pred = theta[0] + theta[1]*my_time + theta[2]*my_courses\n",
    "print('You will get a final mark of:', y_pred[0])"
   ]
  }
 ],
 "metadata": {
  "kernelspec": {
   "display_name": "Python 3",
   "language": "python",
   "name": "python3"
  },
  "language_info": {
   "codemirror_mode": {
    "name": "ipython",
    "version": 3
   },
   "file_extension": ".py",
   "mimetype": "text/x-python",
   "name": "python",
   "nbconvert_exporter": "python",
   "pygments_lexer": "ipython3",
   "version": "3.12.1"
  }
 },
 "nbformat": 4,
 "nbformat_minor": 2
}
